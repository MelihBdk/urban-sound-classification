{
  "nbformat": 4,
  "nbformat_minor": 0,
  "metadata": {
    "colab": {
      "provenance": []
    },
    "kernelspec": {
      "name": "python3",
      "display_name": "Python 3"
    },
    "language_info": {
      "name": "python"
    }
  },
  "cells": [
    {
      "cell_type": "code",
      "execution_count": null,
      "metadata": {
        "id": "bXx94ymlFBsc"
      },
      "outputs": [],
      "source": [
        "import pandas as pd\n",
        "import numpy as np\n",
        "import librosa\n",
        "import cv2\n",
        "import glob\n",
        "import os\n",
        "import matplotlib.pyplot as plt\n",
        "import matplotlib.image as mpimg\n",
        "from sklearn.model_selection import train_test_split\n",
        "from google.colab import drive"
      ]
    },
    {
      "cell_type": "code",
      "source": [
        "drive.mount('/content/drive')"
      ],
      "metadata": {
        "colab": {
          "base_uri": "https://localhost:8080/"
        },
        "id": "CrXPleCnFM6y",
        "outputId": "b266769f-5cbb-47e9-8bb2-cf2ac3366667"
      },
      "execution_count": null,
      "outputs": [
        {
          "output_type": "stream",
          "name": "stdout",
          "text": [
            "Mounted at /content/drive\n"
          ]
        }
      ]
    },
    {
      "cell_type": "code",
      "source": [
        "path_list = []\n",
        "sub_dirs = np.array(['0','1','2','3','4','5','6','7','8','9'])\n",
        "for sub_dir in sub_dirs:\n",
        "  for spec in glob.glob(os.path.join('/content/drive/MyDrive/spectrograms',sub_dir,'*.png')):\n",
        "    path_list.append(spec)"
      ],
      "metadata": {
        "id": "SlYYPGKwFV60"
      },
      "execution_count": null,
      "outputs": []
    },
    {
      "cell_type": "code",
      "source": [
        "image_list = []\n",
        "tag_list = []\n",
        "for path in path_list:\n",
        "    img = cv2.imread(path)\n",
        "    class_id = path.split('/')[6].split('-')[1]\n",
        "    img = cv2.cvtColor(img, cv2.COLOR_RGB2GRAY) #Grayscale\n",
        "    img = img / 255 # Normalization\n",
        "    img = cv2.resize(img, (128, 128)) #Resize\n",
        "    image_list.append(img)\n",
        "    tag_list.append(class_id)"
      ],
      "metadata": {
        "id": "SY2_vjX7FduY"
      },
      "execution_count": null,
      "outputs": []
    },
    {
      "cell_type": "code",
      "source": [
        "image_list = np.array(image_list)\n",
        "image_list.shape"
      ],
      "metadata": {
        "colab": {
          "base_uri": "https://localhost:8080/"
        },
        "id": "lAs_B3NwFi4U",
        "outputId": "aec2d802-e341-4101-fb87-8d6d3289a633"
      },
      "execution_count": null,
      "outputs": [
        {
          "output_type": "execute_result",
          "data": {
            "text/plain": [
              "(8732, 128, 128)"
            ]
          },
          "metadata": {},
          "execution_count": 8
        }
      ]
    },
    {
      "cell_type": "code",
      "source": [
        "tag_list = np.array(tag_list)\n",
        "tag_list.shape"
      ],
      "metadata": {
        "colab": {
          "base_uri": "https://localhost:8080/"
        },
        "id": "LbfxXocYFkJL",
        "outputId": "78ee9596-787d-4967-8ed6-e4e98d8772a3"
      },
      "execution_count": null,
      "outputs": [
        {
          "output_type": "execute_result",
          "data": {
            "text/plain": [
              "(8732,)"
            ]
          },
          "metadata": {},
          "execution_count": 9
        }
      ]
    },
    {
      "cell_type": "code",
      "source": [
        "X = image_list\n",
        "Y = tag_list"
      ],
      "metadata": {
        "id": "B_KC4jqiRPY1"
      },
      "execution_count": null,
      "outputs": []
    },
    {
      "cell_type": "code",
      "source": [
        "x_train, x_temp, y_train, y_temp = train_test_split(X,Y, train_size = 0.8)\n",
        "x_val, x_test, y_val, y_test = train_test_split(x_temp, y_temp, train_size = 0.5)"
      ],
      "metadata": {
        "id": "iVISZeLpRZeV"
      },
      "execution_count": null,
      "outputs": []
    },
    {
      "cell_type": "code",
      "source": [
        "print(f\"len of dataset = {len(X)}\")\n",
        "print(f\"len of x_val = {len(x_val)}\")\n",
        "print(f\"len of x_test = {len(x_test)}\")\n",
        "print(f\"len of x_train = {len(x_train)}\")"
      ],
      "metadata": {
        "colab": {
          "base_uri": "https://localhost:8080/"
        },
        "id": "N4APgY2jRWVx",
        "outputId": "91f807ba-5848-4d35-df2e-75deda5d3543"
      },
      "execution_count": null,
      "outputs": [
        {
          "output_type": "stream",
          "name": "stdout",
          "text": [
            "len of dataset = 8732\n",
            "len of x_val = 873\n",
            "len of x_test = 874\n",
            "len of x_train = 6985\n"
          ]
        }
      ]
    },
    {
      "cell_type": "code",
      "source": [
        "np.save('/content/drive/MyDrive/x_train', x_train)\n",
        "np.save('/content/drive/MyDrive/x_val', x_val)\n",
        "np.save('/content/drive/MyDrive/x_test', x_test)\n",
        "np.save('/content/drive/MyDrive/y_train', y_train)\n",
        "np.save('/content/drive/MyDrive/y_val', y_val)\n",
        "np.save('/content/drive/MyDrive/y_test', y_test)"
      ],
      "metadata": {
        "id": "Uubo5r8zRebO"
      },
      "execution_count": null,
      "outputs": []
    }
  ]
}