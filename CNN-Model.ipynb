{
  "cells": [
    {
      "cell_type": "code",
      "execution_count": 4,
      "metadata": {
        "id": "KkrW8pJn9Wy1"
      },
      "outputs": [],
      "source": [
        "import pandas as pd\n",
        "import numpy as np\n",
        "import tensorflow as tf\n",
        "\n",
        "import matplotlib.pyplot as plt\n",
        "import seaborn as sn\n",
        "\n",
        "from google.colab import drive"
      ]
    },
    {
      "cell_type": "code",
      "execution_count": 5,
      "metadata": {
        "colab": {
          "base_uri": "https://localhost:8080/"
        },
        "id": "QYeY5qYZQUd3",
        "outputId": "3aab814a-e391-4962-8085-cf58b7e814c6"
      },
      "outputs": [
        {
          "name": "stdout",
          "output_type": "stream",
          "text": [
            "Drive already mounted at /content/drive; to attempt to forcibly remount, call drive.mount(\"/content/drive\", force_remount=True).\n"
          ]
        }
      ],
      "source": [
        "drive.mount('/content/drive')"
      ]
    },
    {
      "cell_type": "code",
      "execution_count": 6,
      "metadata": {
        "id": "6A-VmhSGQHWa"
      },
      "outputs": [],
      "source": [
        "x_test = np.load('/content/drive/MyDrive/x_test.npy',allow_pickle=True)\n",
        "x_train = np.load('/content/drive/MyDrive/x_train.npy',allow_pickle=True)\n",
        "x_val = np.load('/content/drive/MyDrive/x_val.npy',allow_pickle=True)\n",
        "y_test = np.load('/content/drive/MyDrive/y_test.npy',allow_pickle=True)\n",
        "y_train = np.load('/content/drive/MyDrive/y_train.npy',allow_pickle=True)\n",
        "y_val = np.load('/content/drive/MyDrive/y_val.npy',allow_pickle=True)"
      ]
    },
    {
      "cell_type": "code",
      "execution_count": 7,
      "metadata": {
        "colab": {
          "base_uri": "https://localhost:8080/"
        },
        "id": "xRprPAaGQUGX",
        "outputId": "979ec51f-311f-4304-f3d5-2bea978bc487"
      },
      "outputs": [
        {
          "name": "stdout",
          "output_type": "stream",
          "text": [
            "len of x_train = 6985\n",
            "len of x_test = 874\n",
            "len of x_val = 873\n"
          ]
        }
      ],
      "source": [
        "print(f\"len of x_train = {len(x_train)}\")\n",
        "print(f\"len of x_test = {len(x_test)}\")\n",
        "print(f\"len of x_val = {len(x_val)}\")"
      ]
    },
    {
      "cell_type": "markdown",
      "metadata": {
        "id": "Ot9BWCmh_ST5"
      },
      "source": [
        "Reshape data"
      ]
    },
    {
      "cell_type": "code",
      "execution_count": 8,
      "metadata": {
        "colab": {
          "base_uri": "https://localhost:8080/"
        },
        "id": "7aLSPgyQf1Wv",
        "outputId": "e7db5f64-660f-4c4f-bbe8-31754182aa62"
      },
      "outputs": [
        {
          "data": {
            "text/plain": [
              "(874, 128, 128)"
            ]
          },
          "execution_count": 8,
          "metadata": {},
          "output_type": "execute_result"
        }
      ],
      "source": [
        "x_test.shape"
      ]
    },
    {
      "cell_type": "code",
      "execution_count": 9,
      "metadata": {
        "id": "enjua4mUf1Zm"
      },
      "outputs": [],
      "source": [
        "x_test = x_test.reshape(x_test.shape + (1,))"
      ]
    },
    {
      "cell_type": "code",
      "execution_count": 10,
      "metadata": {
        "colab": {
          "base_uri": "https://localhost:8080/"
        },
        "id": "5lim4ddlf1cV",
        "outputId": "2b214994-0012-4af0-9efe-c20e36dd8971"
      },
      "outputs": [
        {
          "data": {
            "text/plain": [
              "(874, 128, 128, 1)"
            ]
          },
          "execution_count": 10,
          "metadata": {},
          "output_type": "execute_result"
        }
      ],
      "source": [
        "x_test.shape"
      ]
    },
    {
      "cell_type": "code",
      "execution_count": 11,
      "metadata": {
        "id": "uDFr3dwBf1e0"
      },
      "outputs": [],
      "source": [
        "x_train = x_train.reshape(x_train.shape + (1,))\n",
        "x_val = x_val.reshape(x_val.shape + (1,))"
      ]
    },
    {
      "cell_type": "markdown",
      "metadata": {
        "id": "-gh03lEk_ejj"
      },
      "source": [
        "Convert Y values to Integer"
      ]
    },
    {
      "cell_type": "code",
      "execution_count": 12,
      "metadata": {
        "id": "QWioMpkHf1ha"
      },
      "outputs": [],
      "source": [
        "y_train = y_train.astype(np.int32)\n",
        "y_test = y_test.astype(np.int32)\n",
        "y_val = y_val.astype(np.int32)"
      ]
    },
    {
      "cell_type": "markdown",
      "metadata": {
        "id": "lni1CdFW-8T6"
      },
      "source": [
        "Model building"
      ]
    },
    {
      "cell_type": "code",
      "execution_count": 13,
      "metadata": {
        "id": "EnEySCJGf1j_"
      },
      "outputs": [],
      "source": [
        "model=tf.keras.Sequential()"
      ]
    },
    {
      "cell_type": "code",
      "execution_count": 14,
      "metadata": {
        "id": "ABJaFEfnf1mr"
      },
      "outputs": [],
      "source": [
        "model.add(tf.keras.layers.Conv2D(32, kernel_size=(3,3), \n",
        "                                 kernel_regularizer=tf.keras.regularizers.L2(0.007), \n",
        "                                 padding=\"same\", activation=\"relu\", \n",
        "                                 input_shape=(128,128,1)))\n",
        "\n",
        "model.add(tf.keras.layers.BatchNormalization())\n",
        "\n",
        "model.add(tf.keras.layers.Conv2D(32, kernel_size=(3,3), \n",
        "                                 kernel_regularizer=tf.keras.regularizers.L2(0.007), \n",
        "                                 padding=\"same\", activation=\"relu\"))\n",
        "\n",
        "model.add(tf.keras.layers.BatchNormalization())\n",
        "\n",
        "model.add(tf.keras.layers.Conv2D(32, kernel_size=(3,3), \n",
        "                                 kernel_regularizer=tf.keras.regularizers.L2(0.007), \n",
        "                                 padding=\"same\", activation=\"relu\"))\n",
        "\n",
        "model.add(tf.keras.layers.BatchNormalization())\n",
        "\n",
        "model.add(tf.keras.layers.MaxPooling2D((2,2)))\n",
        "\n",
        "model.add(tf.keras.layers.Conv2D(64, kernel_size=(3,3), \n",
        "                                 kernel_regularizer=tf.keras.regularizers.L2(0.007), \n",
        "                                 padding=\"same\", activation=\"relu\"))\n",
        "\n",
        "model.add(tf.keras.layers.BatchNormalization())\n",
        "\n",
        "model.add(tf.keras.layers.GlobalMaxPooling2D())\n",
        "\n",
        "model.add(tf.keras.layers.Dense(10, activation=\"softmax\"))\n",
        "\n",
        "model.compile(loss='sparse_categorical_crossentropy', optimizer='adam', metrics=['accuracy'])"
      ]
    },
    {
      "cell_type": "markdown",
      "metadata": {
        "id": "5_UWdfOn_Bk0"
      },
      "source": [
        "Model summary"
      ]
    },
    {
      "cell_type": "code",
      "execution_count": 15,
      "metadata": {
        "colab": {
          "base_uri": "https://localhost:8080/"
        },
        "id": "rvlc8Lq4_yCG",
        "outputId": "dd85d8ed-7ff8-4a27-9d6f-e2ba91ecd26a"
      },
      "outputs": [
        {
          "name": "stdout",
          "output_type": "stream",
          "text": [
            "Model: \"sequential\"\n",
            "_________________________________________________________________\n",
            " Layer (type)                Output Shape              Param #   \n",
            "=================================================================\n",
            " conv2d (Conv2D)             (None, 128, 128, 32)      320       \n",
            "                                                                 \n",
            " batch_normalization (BatchN  (None, 128, 128, 32)     128       \n",
            " ormalization)                                                   \n",
            "                                                                 \n",
            " conv2d_1 (Conv2D)           (None, 128, 128, 32)      9248      \n",
            "                                                                 \n",
            " batch_normalization_1 (Batc  (None, 128, 128, 32)     128       \n",
            " hNormalization)                                                 \n",
            "                                                                 \n",
            " conv2d_2 (Conv2D)           (None, 128, 128, 32)      9248      \n",
            "                                                                 \n",
            " batch_normalization_2 (Batc  (None, 128, 128, 32)     128       \n",
            " hNormalization)                                                 \n",
            "                                                                 \n",
            " max_pooling2d (MaxPooling2D  (None, 64, 64, 32)       0         \n",
            " )                                                               \n",
            "                                                                 \n",
            " conv2d_3 (Conv2D)           (None, 64, 64, 64)        18496     \n",
            "                                                                 \n",
            " batch_normalization_3 (Batc  (None, 64, 64, 64)       256       \n",
            " hNormalization)                                                 \n",
            "                                                                 \n",
            " global_max_pooling2d (Globa  (None, 64)               0         \n",
            " lMaxPooling2D)                                                  \n",
            "                                                                 \n",
            " dense (Dense)               (None, 10)                650       \n",
            "                                                                 \n",
            "=================================================================\n",
            "Total params: 38,602\n",
            "Trainable params: 38,282\n",
            "Non-trainable params: 320\n",
            "_________________________________________________________________\n"
          ]
        }
      ],
      "source": [
        "model.summary()"
      ]
    },
    {
      "cell_type": "markdown",
      "metadata": {
        "id": "4Ld0gASB_yRN"
      },
      "source": [
        "Training the model"
      ]
    },
    {
      "cell_type": "code",
      "execution_count": 16,
      "metadata": {
        "colab": {
          "base_uri": "https://localhost:8080/"
        },
        "id": "Qe5CKLS6RDLD",
        "outputId": "581965b2-1ab2-416f-86b5-0225b63ccfdb"
      },
      "outputs": [
        {
          "name": "stdout",
          "output_type": "stream",
          "text": [
            "Epoch 1/50\n",
            "28/28 [==============================] - 30s 518ms/step - loss: 3.7037 - accuracy: 0.2724 - val_loss: 3.0660 - val_accuracy: 0.0447\n",
            "Epoch 2/50\n",
            "28/28 [==============================] - 11s 386ms/step - loss: 2.2570 - accuracy: 0.4594 - val_loss: 3.0884 - val_accuracy: 0.0458\n",
            "Epoch 3/50\n",
            "28/28 [==============================] - 11s 392ms/step - loss: 2.0623 - accuracy: 0.5346 - val_loss: 3.1168 - val_accuracy: 0.0458\n",
            "Epoch 4/50\n",
            "28/28 [==============================] - 11s 397ms/step - loss: 1.9325 - accuracy: 0.5792 - val_loss: 3.1582 - val_accuracy: 0.0458\n",
            "Epoch 5/50\n",
            "28/28 [==============================] - 11s 392ms/step - loss: 1.8114 - accuracy: 0.6219 - val_loss: 3.2225 - val_accuracy: 0.0458\n",
            "Epoch 6/50\n",
            "28/28 [==============================] - 11s 388ms/step - loss: 1.7310 - accuracy: 0.6467 - val_loss: 3.2407 - val_accuracy: 0.0458\n",
            "Epoch 7/50\n",
            "28/28 [==============================] - 11s 385ms/step - loss: 1.6676 - accuracy: 0.6659 - val_loss: 3.3100 - val_accuracy: 0.0458\n",
            "Epoch 8/50\n",
            "28/28 [==============================] - 11s 386ms/step - loss: 1.5895 - accuracy: 0.6922 - val_loss: 3.3614 - val_accuracy: 0.0458\n",
            "Epoch 9/50\n",
            "28/28 [==============================] - 11s 386ms/step - loss: 1.5483 - accuracy: 0.7029 - val_loss: 3.3941 - val_accuracy: 0.0470\n",
            "Epoch 10/50\n",
            "28/28 [==============================] - 11s 387ms/step - loss: 1.4892 - accuracy: 0.7203 - val_loss: 3.3773 - val_accuracy: 0.1031\n",
            "Epoch 11/50\n",
            "28/28 [==============================] - 11s 388ms/step - loss: 1.4301 - accuracy: 0.7457 - val_loss: 3.2575 - val_accuracy: 0.1260\n",
            "Epoch 12/50\n",
            "28/28 [==============================] - 11s 389ms/step - loss: 1.3569 - accuracy: 0.7654 - val_loss: 3.1915 - val_accuracy: 0.1649\n",
            "Epoch 13/50\n",
            "28/28 [==============================] - 11s 389ms/step - loss: 1.3392 - accuracy: 0.7639 - val_loss: 3.0784 - val_accuracy: 0.2383\n",
            "Epoch 14/50\n",
            "28/28 [==============================] - 11s 388ms/step - loss: 1.2730 - accuracy: 0.7822 - val_loss: 2.9608 - val_accuracy: 0.2520\n",
            "Epoch 15/50\n",
            "28/28 [==============================] - 11s 388ms/step - loss: 1.2568 - accuracy: 0.7861 - val_loss: 2.7526 - val_accuracy: 0.3036\n",
            "Epoch 16/50\n",
            "28/28 [==============================] - 11s 388ms/step - loss: 1.2382 - accuracy: 0.7853 - val_loss: 2.5710 - val_accuracy: 0.3150\n",
            "Epoch 17/50\n",
            "28/28 [==============================] - 11s 387ms/step - loss: 1.1802 - accuracy: 0.8033 - val_loss: 2.3441 - val_accuracy: 0.3883\n",
            "Epoch 18/50\n",
            "28/28 [==============================] - 11s 388ms/step - loss: 1.1282 - accuracy: 0.8213 - val_loss: 2.1798 - val_accuracy: 0.4284\n",
            "Epoch 19/50\n",
            "28/28 [==============================] - 11s 388ms/step - loss: 1.0997 - accuracy: 0.8256 - val_loss: 2.0688 - val_accuracy: 0.4616\n",
            "Epoch 20/50\n",
            "28/28 [==============================] - 11s 389ms/step - loss: 1.0897 - accuracy: 0.8249 - val_loss: 1.9122 - val_accuracy: 0.5178\n",
            "Epoch 21/50\n",
            "28/28 [==============================] - 11s 389ms/step - loss: 1.0606 - accuracy: 0.8296 - val_loss: 1.7727 - val_accuracy: 0.5876\n",
            "Epoch 22/50\n",
            "28/28 [==============================] - 11s 390ms/step - loss: 1.0138 - accuracy: 0.8461 - val_loss: 1.6499 - val_accuracy: 0.6357\n",
            "Epoch 23/50\n",
            "28/28 [==============================] - 11s 389ms/step - loss: 0.9807 - accuracy: 0.8573 - val_loss: 1.5417 - val_accuracy: 0.6552\n",
            "Epoch 24/50\n",
            "28/28 [==============================] - 11s 389ms/step - loss: 0.9592 - accuracy: 0.8578 - val_loss: 1.8103 - val_accuracy: 0.5853\n",
            "Epoch 25/50\n",
            "28/28 [==============================] - 11s 389ms/step - loss: 0.9860 - accuracy: 0.8457 - val_loss: 1.8682 - val_accuracy: 0.5796\n",
            "Epoch 26/50\n",
            "28/28 [==============================] - 11s 389ms/step - loss: 0.9592 - accuracy: 0.8521 - val_loss: 1.6831 - val_accuracy: 0.6243\n",
            "Epoch 27/50\n",
            "28/28 [==============================] - 11s 389ms/step - loss: 0.8922 - accuracy: 0.8713 - val_loss: 1.4722 - val_accuracy: 0.6907\n",
            "Epoch 28/50\n",
            "28/28 [==============================] - 11s 388ms/step - loss: 0.8770 - accuracy: 0.8727 - val_loss: 1.4559 - val_accuracy: 0.6919\n",
            "Epoch 29/50\n",
            "28/28 [==============================] - 11s 388ms/step - loss: 0.8720 - accuracy: 0.8743 - val_loss: 1.4915 - val_accuracy: 0.6930\n",
            "Epoch 30/50\n",
            "28/28 [==============================] - 11s 388ms/step - loss: 0.8136 - accuracy: 0.8886 - val_loss: 1.5005 - val_accuracy: 0.6930\n",
            "Epoch 31/50\n",
            "28/28 [==============================] - 11s 389ms/step - loss: 0.7832 - accuracy: 0.9001 - val_loss: 1.3728 - val_accuracy: 0.7320\n",
            "Epoch 32/50\n",
            "28/28 [==============================] - 11s 389ms/step - loss: 0.7691 - accuracy: 0.9045 - val_loss: 1.7220 - val_accuracy: 0.6334\n",
            "Epoch 33/50\n",
            "28/28 [==============================] - 11s 388ms/step - loss: 0.7328 - accuracy: 0.9115 - val_loss: 1.4396 - val_accuracy: 0.7102\n",
            "Epoch 34/50\n",
            "28/28 [==============================] - 11s 388ms/step - loss: 0.7480 - accuracy: 0.9055 - val_loss: 1.4589 - val_accuracy: 0.7113\n",
            "Epoch 35/50\n",
            "28/28 [==============================] - 11s 389ms/step - loss: 0.7096 - accuracy: 0.9145 - val_loss: 1.4509 - val_accuracy: 0.7068\n",
            "Epoch 36/50\n",
            "28/28 [==============================] - 11s 389ms/step - loss: 0.7030 - accuracy: 0.9177 - val_loss: 1.3627 - val_accuracy: 0.7262\n",
            "Epoch 37/50\n",
            "28/28 [==============================] - 11s 389ms/step - loss: 0.6605 - accuracy: 0.9280 - val_loss: 1.3398 - val_accuracy: 0.7388\n",
            "Epoch 38/50\n",
            "28/28 [==============================] - 11s 389ms/step - loss: 0.6594 - accuracy: 0.9247 - val_loss: 1.4598 - val_accuracy: 0.7148\n",
            "Epoch 39/50\n",
            "28/28 [==============================] - 11s 389ms/step - loss: 0.7767 - accuracy: 0.8799 - val_loss: 1.9254 - val_accuracy: 0.6483\n",
            "Epoch 40/50\n",
            "28/28 [==============================] - 11s 389ms/step - loss: 0.8168 - accuracy: 0.8700 - val_loss: 1.9630 - val_accuracy: 0.6346\n",
            "Epoch 41/50\n",
            "28/28 [==============================] - 11s 389ms/step - loss: 0.7044 - accuracy: 0.9087 - val_loss: 1.5200 - val_accuracy: 0.7033\n",
            "Epoch 42/50\n",
            "28/28 [==============================] - 11s 389ms/step - loss: 0.6410 - accuracy: 0.9334 - val_loss: 1.4856 - val_accuracy: 0.7194\n",
            "Epoch 43/50\n",
            "28/28 [==============================] - 11s 389ms/step - loss: 0.5780 - accuracy: 0.9542 - val_loss: 1.3409 - val_accuracy: 0.7423\n",
            "Epoch 44/50\n",
            "28/28 [==============================] - 11s 389ms/step - loss: 0.5393 - accuracy: 0.9622 - val_loss: 1.5125 - val_accuracy: 0.7274\n",
            "Epoch 45/50\n",
            "28/28 [==============================] - 11s 388ms/step - loss: 0.5227 - accuracy: 0.9684 - val_loss: 1.3753 - val_accuracy: 0.7457\n",
            "Epoch 46/50\n",
            "28/28 [==============================] - 11s 389ms/step - loss: 0.5115 - accuracy: 0.9674 - val_loss: 1.3945 - val_accuracy: 0.7388\n",
            "Epoch 47/50\n",
            "28/28 [==============================] - 11s 388ms/step - loss: 0.5480 - accuracy: 0.9512 - val_loss: 1.3825 - val_accuracy: 0.7434\n",
            "Epoch 48/50\n",
            "28/28 [==============================] - 11s 389ms/step - loss: 0.6752 - accuracy: 0.8994 - val_loss: 1.9517 - val_accuracy: 0.6644\n",
            "Epoch 49/50\n",
            "28/28 [==============================] - 11s 390ms/step - loss: 0.6344 - accuracy: 0.9193 - val_loss: 1.5911 - val_accuracy: 0.7216\n",
            "Epoch 50/50\n",
            "28/28 [==============================] - 11s 388ms/step - loss: 0.6092 - accuracy: 0.9261 - val_loss: 1.4683 - val_accuracy: 0.7022\n"
          ]
        }
      ],
      "source": [
        "results = model.fit(x=x_train, y=y_train, batch_size=256, epochs=50, validation_data=(x_val, y_val))"
      ]
    },
    {
      "cell_type": "markdown",
      "metadata": {
        "id": "WYcVX_H0p_rv"
      },
      "source": [
        "Train vs test history plots"
      ]
    },
    {
      "cell_type": "code",
      "execution_count": 17,
      "metadata": {
        "colab": {
          "base_uri": "https://localhost:8080/",
          "height": 265
        },
        "id": "oT8XBGl3RGAB",
        "outputId": "23cd9e64-ca99-41e5-9dbc-b855a1c3f785"
      },
      "outputs": [
        {
          "data": {
            "image/png": "[encoded data removed]",
            "text/plain": [
              "<Figure size 432x288 with 1 Axes>"
            ]
          },
          "metadata": {
            "needs_background": "light"
          },
          "output_type": "display_data"
        }
      ],
      "source": [
        "plt.plot(results.history[\"loss\"], label=\"loss\")\n",
        "plt.plot(results.history[\"val_loss\"], label =\"val_loss\")\n",
        "\n",
        "plt.legend()\n",
        "plt.show()"
      ]
    },
    {
      "cell_type": "code",
      "execution_count": 18,
      "metadata": {
        "colab": {
          "base_uri": "https://localhost:8080/",
          "height": 266
        },
        "id": "KAwkB1uOVtIV",
        "outputId": "c4437a6f-aa2d-4288-dda0-8589fc4865e3"
      },
      "outputs": [
        {
          "data": {
            "image/png": "[encoded data removed]",
            "text/plain": [
              "<Figure size 432x288 with 1 Axes>"
            ]
          },
          "metadata": {
            "needs_background": "light"
          },
          "output_type": "display_data"
        }
      ],
      "source": [
        "plt.plot(results.history[\"accuracy\"], label=\"accuracy\")\n",
        "plt.plot(results.history[\"val_accuracy\"], label =\"val_accuracy\")\n",
        "\n",
        "plt.legend()\n",
        "plt.show()"
      ]
    },
    {
      "cell_type": "markdown",
      "metadata": {
        "id": "_IzidZYLqEhL"
      },
      "source": [
        "Model Evaluation"
      ]
    },
    {
      "cell_type": "code",
      "execution_count": 39,
      "metadata": {
        "colab": {
          "base_uri": "https://localhost:8080/"
        },
        "id": "R7Xp6kAevp6K",
        "outputId": "7c51b1c5-123a-42eb-a1e9-702b66f1e98c"
      },
      "outputs": [
        {
          "name": "stdout",
          "output_type": "stream",
          "text": [
            "28/28 [==============================] - 0s 15ms/step - loss: 1.5029 - accuracy: 0.7094\n"
          ]
        }
      ],
      "source": [
        "acc = model.evaluate(x_test,y_test)[1]"
      ]
    },
    {
      "cell_type": "code",
      "execution_count": 40,
      "metadata": {
        "id": "dUI745vC_Yw_"
      },
      "outputs": [],
      "source": [
        "tags = {\n",
        "0 : 'air_conditioner',\n",
        "1 : 'car_horn',\n",
        "2 : 'children_playing',\n",
        "3 : 'dog_bark',\n",
        "4 : 'drilling',\n",
        "5 : 'engine_idling',\n",
        "6 : 'gun_shot',\n",
        "7 : 'jackhammer',\n",
        "8 : 'siren',\n",
        "9 : 'street_music'}"
      ]
    },
    {
      "cell_type": "code",
      "execution_count": 41,
      "metadata": {
        "id": "VyPsvPsuhNCM"
      },
      "outputs": [],
      "source": [
        "y_pred = []\n",
        "for p in x_test:\n",
        "  pred = model.predict(p.reshape(1,128,128,1))\n",
        "  pred = pred.argmax()\n",
        "  y_pred.append(pred)"
      ]
    },
    {
      "cell_type": "code",
      "execution_count": 42,
      "metadata": {
        "colab": {
          "base_uri": "https://localhost:8080/",
          "height": 283
        },
        "id": "0OI6anWMgXap",
        "outputId": "b341b0cf-a2fb-4cfa-91c8-e154f44238c2"
      },
      "outputs": [
        {
          "data": {
            "image/png": "[encoded data removed]",
            "text/plain": [
              "<Figure size 432x288 with 2 Axes>"
            ]
          },
          "metadata": {
            "needs_background": "light"
          },
          "output_type": "display_data"
        }
      ],
      "source": [
        "data = {'y_Actual': y_test,\n",
        "        'y_Predicted': y_pred\n",
        "        }\n",
        "df = pd.DataFrame(data, columns=['y_Actual','y_Predicted'])\n",
        "\n",
        "confusion_matrix = pd.crosstab(df['y_Actual'], df['y_Predicted'], rownames=['Actual'], colnames=['Predicted'])\n",
        "\n",
        "sn.heatmap(confusion_matrix, annot=True)\n",
        "plt.show()"
      ]
    },
    {
      "cell_type": "code",
      "execution_count": 43,
      "metadata": {
        "colab": {
          "base_uri": "https://localhost:8080/"
        },
        "id": "4iS9Tmx-nUFS",
        "outputId": "b7b5fa69-4205-4b34-f68e-26bd4d8c7580"
      },
      "outputs": [
        {
          "name": "stdout",
          "output_type": "stream",
          "text": [
            "accuracy for air_conditioner = 0.765625\n",
            "accuracy for car_horn = 0.5081967213114754\n",
            "accuracy for children_playing = 0.7547169811320755\n",
            "accuracy for dog_bark = 0.6666666666666666\n",
            "accuracy for drilling = 0.8292682926829268\n",
            "accuracy for engine_idling = 0.9253731343283582\n",
            "accuracy for gun_shot = 1.0\n",
            "accuracy for jackhammer = 0.8705882352941177\n",
            "accuracy for siren = 0.5735294117647058\n",
            "accuracy for street_music = 0.5789473684210527\n",
            "\n",
            "accuracy = 0.709382176399231\n"
          ]
        }
      ],
      "source": [
        "for key,value in tags.items():\n",
        "  cm = confusion_matrix[key][key] / confusion_matrix[key].sum()\n",
        "  print(f\"accuracy for {value} = {cm}\")\n",
        "\n",
        "print(f\"\\naccuracy = {acc}\")\n"
      ]
    },
    {
      "cell_type": "markdown",
      "metadata": {
        "id": "2vSfywrN_jyq"
      },
      "source": [
        "Tests with test dataset"
      ]
    },
    {
      "cell_type": "code",
      "execution_count": 48,
      "metadata": {
        "colab": {
          "base_uri": "https://localhost:8080/"
        },
        "id": "pqbWshO08qjZ",
        "outputId": "119e7caa-81f0-470c-c711-797a873a71c4"
      },
      "outputs": [
        {
          "name": "stdout",
          "output_type": "stream",
          "text": [
            "x_test[60] is engine_idling\n",
            "x_test[60] is 0.9950633645057678 percent engine_idling\n"
          ]
        }
      ],
      "source": [
        "print(f\"x_test[60] is {tags[y_test[60]]}\")\n",
        "\n",
        "predict_1 = model.predict(x_test[60].reshape(1,128,128,1))\n",
        "tag_1 = predict_1.argmax()\n",
        "probability_1 = predict_1.max()\n",
        "\n",
        "print(f\"x_test[60] is {probability_1} percent {tags[tag_1]}\")"
      ]
    },
    {
      "cell_type": "code",
      "execution_count": 45,
      "metadata": {
        "colab": {
          "base_uri": "https://localhost:8080/"
        },
        "id": "KWQuoNwO-geL",
        "outputId": "d9e25c89-9c89-4593-f3c5-d2d58e88228e"
      },
      "outputs": [
        {
          "name": "stdout",
          "output_type": "stream",
          "text": [
            "x_test[33] is children_playing\n",
            "x_test[33] is 0.9968551397323608 percent children_playing\n"
          ]
        }
      ],
      "source": [
        "print(f\"x_test[33] is {tags[y_test[33]]}\")\n",
        "\n",
        "predict_2 = model.predict(x_test[33].reshape(1,128,128,1))\n",
        "tag_2 = predict_2.argmax()\n",
        "probability_2 = predict_2.max()\n",
        "\n",
        "print(f\"x_test[33] is {probability_2} percent {tags[tag_2]}\")"
      ]
    },
    {
      "cell_type": "code",
      "execution_count": 49,
      "metadata": {
        "colab": {
          "base_uri": "https://localhost:8080/"
        },
        "id": "T3djFSOq-qK3",
        "outputId": "fed708a1-d8e4-4343-ffdf-73d3a1a12091"
      },
      "outputs": [
        {
          "name": "stdout",
          "output_type": "stream",
          "text": [
            "x_test[125] is siren\n",
            "x_test[125] is 0.7502034306526184 percent car_horn\n"
          ]
        }
      ],
      "source": [
        "print(f\"x_test[125] is {tags[y_test[125]]}\")\n",
        "\n",
        "predict_3 = model.predict(x_test[125].reshape(1,128,128,1))\n",
        "tag_3 = predict_3.argmax()\n",
        "probability_3 = predict_3.max()\n",
        "\n",
        "print(f\"x_test[125] is {probability_3} percent {tags[tag_3]}\")"
      ]
    }
  ],
  "metadata": {
    "accelerator": "GPU",
    "colab": {
      "collapsed_sections": [],
      "provenance": []
    },
    "kernelspec": {
      "display_name": "Python 3",
      "name": "python3"
    },
    "language_info": {
      "name": "python"
    }
  },
  "nbformat": 4,
  "nbformat_minor": 0
}
